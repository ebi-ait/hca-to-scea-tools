{
 "cells": [
  {
   "cell_type": "markdown",
   "metadata": {},
   "source": [
    "# Bundle ID / Version column filler"
   ]
  },
  {
   "cell_type": "markdown",
   "metadata": {},
   "source": [
    "## 1. Dataset info"
   ]
  },
  {
   "cell_type": "code",
   "execution_count": 1,
   "metadata": {},
   "outputs": [],
   "source": [
    "accession_index = 10\n",
    "project_name = \"KidneySingleCellAtlas\""
   ]
  },
  {
   "cell_type": "code",
   "execution_count": 10,
   "metadata": {},
   "outputs": [],
   "source": [
    "work_dir = f\"E-HCAD-{accession_index}_{project_name}\"\n",
    "accession = f\"E-HCAD-{accession_index}\"\n",
    "protocol_accession = f\"HCAD{accession_index}\"\n",
    "idf_file_name = f\"{accession}.idf.txt\"\n",
    "sdrf_file_name = f\"{accession}.sdrf.txt\""
   ]
  },
  {
   "cell_type": "markdown",
   "metadata": {},
   "source": [
    "## 2. Load SDRF"
   ]
  },
  {
   "cell_type": "code",
   "execution_count": 11,
   "metadata": {},
   "outputs": [],
   "source": [
    "import pandas as pd\n",
    "pd.set_option('display.max_columns', 0)\n",
    "pd.set_option('display.max_rows', 0)"
   ]
  },
  {
   "cell_type": "code",
   "execution_count": 12,
   "metadata": {},
   "outputs": [],
   "source": [
    "sdrf = pd.read_csv(sdrf_file_name, sep=\"\\t\", keep_default_na=False)"
   ]
  },
  {
   "cell_type": "code",
   "execution_count": 13,
   "metadata": {},
   "outputs": [],
   "source": [
    "manifest = pd.read_csv(f\"../hca_manifest.tsv\", sep=\"\\t\", keep_default_na=False)"
   ]
  },
  {
   "cell_type": "markdown",
   "metadata": {},
   "source": [
    "## 3. Select required piece of the manifest"
   ]
  },
  {
   "cell_type": "code",
   "execution_count": 14,
   "metadata": {},
   "outputs": [],
   "source": [
    "required_cols = [\"bundle_uuid\", \"bundle_version\", \"file_name\", \"sample.biomaterial_core.biomaterial_id\"]\n",
    "manifest_chunk = manifest.loc[manifest['project.project_core.project_short_name'] == project_name][required_cols]"
   ]
  },
  {
   "cell_type": "code",
   "execution_count": 21,
   "metadata": {},
   "outputs": [],
   "source": [
    "manifest_chunk = manifest_chunk[~manifest_chunk['file_name'].astype(str).str.startswith('CZI')]"
   ]
  },
  {
   "cell_type": "markdown",
   "metadata": {},
   "source": [
    "## 4. Filter bundle IDs\n",
    "Take the earliest versions of the file bundles:\n",
    "1. Sort by bundle version date.\n",
    "2. Drop duplicates."
   ]
  },
  {
   "cell_type": "code",
   "execution_count": 22,
   "metadata": {},
   "outputs": [],
   "source": [
    "manifest_chunk['file_part'] = manifest_chunk['file_name'].str.slice(0, -16)"
   ]
  },
  {
   "cell_type": "code",
   "execution_count": 23,
   "metadata": {},
   "outputs": [],
   "source": [
    "manifest_chunk = manifest_chunk.drop_duplicates(subset=['file_part'])"
   ]
  },
  {
   "cell_type": "code",
   "execution_count": 24,
   "metadata": {},
   "outputs": [],
   "source": [
    "manifest_chunk['date'] = pd.to_datetime(manifest_chunk['bundle_version'])"
   ]
  },
  {
   "cell_type": "code",
   "execution_count": 25,
   "metadata": {},
   "outputs": [
    {
     "data": {
      "text/html": [
       "<div>\n",
       "<style scoped>\n",
       "    .dataframe tbody tr th:only-of-type {\n",
       "        vertical-align: middle;\n",
       "    }\n",
       "\n",
       "    .dataframe tbody tr th {\n",
       "        vertical-align: top;\n",
       "    }\n",
       "\n",
       "    .dataframe thead th {\n",
       "        text-align: right;\n",
       "    }\n",
       "</style>\n",
       "<table border=\"1\" class=\"dataframe\">\n",
       "  <thead>\n",
       "    <tr style=\"text-align: right;\">\n",
       "      <th></th>\n",
       "      <th>bundle_uuid</th>\n",
       "      <th>bundle_version</th>\n",
       "      <th>file_name</th>\n",
       "      <th>sample.biomaterial_core.biomaterial_id</th>\n",
       "      <th>file_part</th>\n",
       "      <th>date</th>\n",
       "    </tr>\n",
       "  </thead>\n",
       "  <tbody>\n",
       "    <tr>\n",
       "      <th>216</th>\n",
       "      <td>4a93a63a-53b9-4625-ae17-102a94bc6e6b</td>\n",
       "      <td>2019-10-24T212959.067729Z</td>\n",
       "      <td>4834STDY7002875_S1_L001_R1_001.fastq.gz</td>\n",
       "      <td>F16_1</td>\n",
       "      <td>4834STDY7002875_S1_L001</td>\n",
       "      <td>2019-10-24 21:29:59.067729+00:00</td>\n",
       "    </tr>\n",
       "    <tr>\n",
       "      <th>1148</th>\n",
       "      <td>85f6d419-f938-4adf-8c28-df42c051d46c</td>\n",
       "      <td>2019-10-23T144855.605493Z</td>\n",
       "      <td>4834STDY7002876_S1_L001_I1_001.fastq.gz</td>\n",
       "      <td>F16_1</td>\n",
       "      <td>4834STDY7002876_S1_L001</td>\n",
       "      <td>2019-10-23 14:48:55.605493+00:00</td>\n",
       "    </tr>\n",
       "    <tr>\n",
       "      <th>865</th>\n",
       "      <td>be0dddfd-5b70-48f6-b6bd-ba4f43868cb8</td>\n",
       "      <td>2019-10-23T144855.605539Z</td>\n",
       "      <td>4834STDY7002881_S1_L001_I1_001.fastq.gz</td>\n",
       "      <td>F17_1</td>\n",
       "      <td>4834STDY7002881_S1_L001</td>\n",
       "      <td>2019-10-23 14:48:55.605539+00:00</td>\n",
       "    </tr>\n",
       "    <tr>\n",
       "      <th>154</th>\n",
       "      <td>1b19d618-a412-413a-acd6-fb9053b1e5df</td>\n",
       "      <td>2019-10-23T144855.605570Z</td>\n",
       "      <td>4834STDY7002885_S1_L001_R1_001.fastq.gz</td>\n",
       "      <td>F17_1</td>\n",
       "      <td>4834STDY7002885_S1_L001</td>\n",
       "      <td>2019-10-23 14:48:55.605570+00:00</td>\n",
       "    </tr>\n",
       "    <tr>\n",
       "      <th>1196</th>\n",
       "      <td>6d853375-b12a-4cbd-a60a-37e7324400a0</td>\n",
       "      <td>2019-10-24T171936.505978Z</td>\n",
       "      <td>4834STDY7002886_S1_L001_R1_001.fastq.gz</td>\n",
       "      <td>F17_1</td>\n",
       "      <td>4834STDY7002886_S1_L001</td>\n",
       "      <td>2019-10-24 17:19:36.505978+00:00</td>\n",
       "    </tr>\n",
       "    <tr>\n",
       "      <th>57</th>\n",
       "      <td>83ed57f4-9743-4f08-abfe-d2ebb8d9ff91</td>\n",
       "      <td>2019-10-23T144855.605620Z</td>\n",
       "      <td>FCAImmP7462242_S1_L001_R1_001.fastq.gz</td>\n",
       "      <td>F35_1</td>\n",
       "      <td>FCAImmP7462242_S1_L001</td>\n",
       "      <td>2019-10-23 14:48:55.605620+00:00</td>\n",
       "    </tr>\n",
       "    <tr>\n",
       "      <th>140</th>\n",
       "      <td>15479e62-238a-4c6a-ac39-b92a24e4b27f</td>\n",
       "      <td>2019-10-24T084729.869919Z</td>\n",
       "      <td>FCAImmP7462243_S1_L001_I1_001.fastq.gz</td>\n",
       "      <td>F35_1</td>\n",
       "      <td>FCAImmP7462243_S1_L001</td>\n",
       "      <td>2019-10-24 08:47:29.869919+00:00</td>\n",
       "    </tr>\n",
       "    <tr>\n",
       "      <th>610</th>\n",
       "      <td>49b83276-d663-4621-962d-7adb7af92f3d</td>\n",
       "      <td>2019-10-24T080821.903964Z</td>\n",
       "      <td>FCAImmP7528292_S1_L001_R1_001.fastq.gz</td>\n",
       "      <td>F38_1</td>\n",
       "      <td>FCAImmP7528292_S1_L001</td>\n",
       "      <td>2019-10-24 08:08:21.903964+00:00</td>\n",
       "    </tr>\n",
       "    <tr>\n",
       "      <th>126</th>\n",
       "      <td>66b75bd0-ec85-4777-b31b-f4f05077bdec</td>\n",
       "      <td>2019-10-24T075932.398586Z</td>\n",
       "      <td>FCAImmP7528293_S1_L001_R1_001.fastq.gz</td>\n",
       "      <td>F38_1</td>\n",
       "      <td>FCAImmP7528293_S1_L001</td>\n",
       "      <td>2019-10-24 07:59:32.398586+00:00</td>\n",
       "    </tr>\n",
       "    <tr>\n",
       "      <th>939</th>\n",
       "      <td>d4f75bfc-5813-4ca3-a04a-3a10c8997585</td>\n",
       "      <td>2019-10-23T144855.605737Z</td>\n",
       "      <td>FCAImmP7555849_S1_L001_I1_001.fastq.gz</td>\n",
       "      <td>F41_1</td>\n",
       "      <td>FCAImmP7555849_S1_L001</td>\n",
       "      <td>2019-10-23 14:48:55.605737+00:00</td>\n",
       "    </tr>\n",
       "    <tr>\n",
       "      <th>526</th>\n",
       "      <td>4f5349ae-3238-4c70-b7d7-7c5de8d3aab4</td>\n",
       "      <td>2019-10-24T082930.445132Z</td>\n",
       "      <td>FCAImmP7555850_S1_L001_I1_001.fastq.gz</td>\n",
       "      <td>F41_1</td>\n",
       "      <td>FCAImmP7555850_S1_L001</td>\n",
       "      <td>2019-10-24 08:29:30.445132+00:00</td>\n",
       "    </tr>\n",
       "    <tr>\n",
       "      <th>828</th>\n",
       "      <td>a98141e5-630e-4eeb-8532-1486b2e329f1</td>\n",
       "      <td>2019-10-24T081750.128396Z</td>\n",
       "      <td>FCAImmP7579214_S1_L001_I1_001.fastq.gz</td>\n",
       "      <td>F45_1</td>\n",
       "      <td>FCAImmP7579214_S1_L001</td>\n",
       "      <td>2019-10-24 08:17:50.128396+00:00</td>\n",
       "    </tr>\n",
       "    <tr>\n",
       "      <th>110</th>\n",
       "      <td>7af1d91c-572e-4beb-a768-0e3b0a167f82</td>\n",
       "      <td>2019-10-23T144855.605812Z</td>\n",
       "      <td>FCAImmP7579215_S1_L001_R2_001.fastq.gz</td>\n",
       "      <td>F45_1</td>\n",
       "      <td>FCAImmP7579215_S1_L001</td>\n",
       "      <td>2019-10-23 14:48:55.605812+00:00</td>\n",
       "    </tr>\n",
       "  </tbody>\n",
       "</table>\n",
       "</div>"
      ],
      "text/plain": [
       "                               bundle_uuid             bundle_version  ...                file_part                             date\n",
       "216   4a93a63a-53b9-4625-ae17-102a94bc6e6b  2019-10-24T212959.067729Z  ...  4834STDY7002875_S1_L001 2019-10-24 21:29:59.067729+00:00\n",
       "1148  85f6d419-f938-4adf-8c28-df42c051d46c  2019-10-23T144855.605493Z  ...  4834STDY7002876_S1_L001 2019-10-23 14:48:55.605493+00:00\n",
       "865   be0dddfd-5b70-48f6-b6bd-ba4f43868cb8  2019-10-23T144855.605539Z  ...  4834STDY7002881_S1_L001 2019-10-23 14:48:55.605539+00:00\n",
       "154   1b19d618-a412-413a-acd6-fb9053b1e5df  2019-10-23T144855.605570Z  ...  4834STDY7002885_S1_L001 2019-10-23 14:48:55.605570+00:00\n",
       "1196  6d853375-b12a-4cbd-a60a-37e7324400a0  2019-10-24T171936.505978Z  ...  4834STDY7002886_S1_L001 2019-10-24 17:19:36.505978+00:00\n",
       "57    83ed57f4-9743-4f08-abfe-d2ebb8d9ff91  2019-10-23T144855.605620Z  ...   FCAImmP7462242_S1_L001 2019-10-23 14:48:55.605620+00:00\n",
       "140   15479e62-238a-4c6a-ac39-b92a24e4b27f  2019-10-24T084729.869919Z  ...   FCAImmP7462243_S1_L001 2019-10-24 08:47:29.869919+00:00\n",
       "610   49b83276-d663-4621-962d-7adb7af92f3d  2019-10-24T080821.903964Z  ...   FCAImmP7528292_S1_L001 2019-10-24 08:08:21.903964+00:00\n",
       "126   66b75bd0-ec85-4777-b31b-f4f05077bdec  2019-10-24T075932.398586Z  ...   FCAImmP7528293_S1_L001 2019-10-24 07:59:32.398586+00:00\n",
       "939   d4f75bfc-5813-4ca3-a04a-3a10c8997585  2019-10-23T144855.605737Z  ...   FCAImmP7555849_S1_L001 2019-10-23 14:48:55.605737+00:00\n",
       "526   4f5349ae-3238-4c70-b7d7-7c5de8d3aab4  2019-10-24T082930.445132Z  ...   FCAImmP7555850_S1_L001 2019-10-24 08:29:30.445132+00:00\n",
       "828   a98141e5-630e-4eeb-8532-1486b2e329f1  2019-10-24T081750.128396Z  ...   FCAImmP7579214_S1_L001 2019-10-24 08:17:50.128396+00:00\n",
       "110   7af1d91c-572e-4beb-a768-0e3b0a167f82  2019-10-23T144855.605812Z  ...   FCAImmP7579215_S1_L001 2019-10-23 14:48:55.605812+00:00\n",
       "\n",
       "[13 rows x 6 columns]"
      ]
     },
     "execution_count": 25,
     "metadata": {},
     "output_type": "execute_result"
    }
   ],
   "source": [
    "manifest_chunk.sort_values(by='bundle_version').sort_values(by=[\"sample.biomaterial_core.biomaterial_id\", \"file_part\"])"
   ]
  }
 ],
 "metadata": {
  "kernelspec": {
   "display_name": "Python 3",
   "language": "python",
   "name": "python3"
  },
  "language_info": {
   "codemirror_mode": {
    "name": "ipython",
    "version": 3
   },
   "file_extension": ".py",
   "mimetype": "text/x-python",
   "name": "python",
   "nbconvert_exporter": "python",
   "pygments_lexer": "ipython3",
   "version": "3.8.0"
  }
 },
 "nbformat": 4,
 "nbformat_minor": 4
}
