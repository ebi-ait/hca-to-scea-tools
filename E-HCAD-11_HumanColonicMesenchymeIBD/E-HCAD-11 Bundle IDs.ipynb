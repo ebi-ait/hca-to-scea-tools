{
 "cells": [
  {
   "cell_type": "markdown",
   "metadata": {},
   "source": [
    "# Bundle ID / Version column filler"
   ]
  },
  {
   "cell_type": "markdown",
   "metadata": {},
   "source": [
    "## 1. Dataset info"
   ]
  },
  {
   "cell_type": "code",
   "execution_count": 6,
   "metadata": {},
   "outputs": [],
   "source": [
    "accession_index = 11\n",
    "project_name = \"HumanColonicMesenchymeIBD\""
   ]
  },
  {
   "cell_type": "code",
   "execution_count": 7,
   "metadata": {},
   "outputs": [],
   "source": [
    "work_dir = f\"E-HCAD-{accession_index}_{project_name}\"\n",
    "accession = f\"E-HCAD-{accession_index}\"\n",
    "protocol_accession = f\"HCAD{accession_index}\"\n",
    "idf_file_name = f\"{accession}.idf.txt\"\n",
    "sdrf_file_name = f\"{accession}.sdrf.txt\""
   ]
  },
  {
   "cell_type": "markdown",
   "metadata": {},
   "source": [
    "## 2. Load SDRF"
   ]
  },
  {
   "cell_type": "code",
   "execution_count": 8,
   "metadata": {},
   "outputs": [],
   "source": [
    "import pandas as pd\n",
    "pd.set_option('display.max_columns', 0)\n",
    "pd.set_option('display.max_rows', 0)"
   ]
  },
  {
   "cell_type": "code",
   "execution_count": 9,
   "metadata": {},
   "outputs": [],
   "source": [
    "sdrf = pd.read_csv(f\"{work_dir}/{sdrf_file_name}\", sep=\"\\t\", keep_default_na=False)"
   ]
  },
  {
   "cell_type": "code",
   "execution_count": 5,
   "metadata": {},
   "outputs": [],
   "source": [
    "manifest = pd.read_csv(f\"hca_manifest.tsv\", sep=\"\\t\", keep_default_na=False)"
   ]
  },
  {
   "cell_type": "markdown",
   "metadata": {},
   "source": [
    "## 3. Select required piece of the manifest"
   ]
  },
  {
   "cell_type": "code",
   "execution_count": 10,
   "metadata": {},
   "outputs": [],
   "source": [
    "required_cols = [\"bundle_uuid\", \"bundle_version\", \"file_name\", \"sample.biomaterial_core.biomaterial_id\"]\n",
    "manifest_chunk = manifest.loc[manifest['project.project_core.project_short_name'] == project_name][required_cols]"
   ]
  },
  {
   "cell_type": "markdown",
   "metadata": {},
   "source": [
    "## 4. Filter bundle IDs\n",
    "Take the earliest versions of the file bundles:\n",
    "1. Sort by bundle version date.\n",
    "2. Drop duplicates."
   ]
  },
  {
   "cell_type": "code",
   "execution_count": 27,
   "metadata": {},
   "outputs": [],
   "source": [
    "required_file_names = [\n",
    "    \"SRR7159836_S1_L004_R1_001.fastq.gz\",\n",
    "    \"SRR7159836_S1_L005_R1_001.fastq.gz\",\n",
    "    \"SRR7159836_S1_L006_R1_001.fastq.gz\",\n",
    "    \"SRR7159836_S1_L007_R1_001.fastq.gz\",\n",
    "    \"SRR7159837_S1_L004_R1_001.fastq.gz\",\n",
    "    \"SRR7159837_S1_L005_R1_001.fastq.gz\",\n",
    "    \"SRR7159837_S1_L006_R1_001.fastq.gz\",\n",
    "    \"SRR7159837_S1_L007_R1_001.fastq.gz\",\n",
    "    \"SRR7159838_S1_L004_R1_001.fastq.gz\",\n",
    "    \"SRR7159838_S1_L005_R1_001.fastq.gz\",\n",
    "    \"SRR7159838_S1_L006_R1_001.fastq.gz\",\n",
    "    \"SRR7159838_S1_L007_R1_001.fastq.gz\",\n",
    "    \"SRR7159839_S1_L004_R1_001.fastq.gz\",\n",
    "    \"SRR7159839_S1_L005_R1_001.fastq.gz\",\n",
    "    \"SRR7159839_S1_L006_R1_001.fastq.gz\",\n",
    "    \"SRR7159839_S1_L007_R1_001.fastq.gz\"\n",
    "]\n",
    "\n",
    "manifest_chunk = manifest_chunk[manifest_chunk['file_name'].isin(required_file_names)][required_cols]"
   ]
  },
  {
   "cell_type": "code",
   "execution_count": 28,
   "metadata": {},
   "outputs": [],
   "source": [
    "manifest_chunk['date'] = pd.to_datetime(manifest_chunk['bundle_version'])"
   ]
  },
  {
   "cell_type": "code",
   "execution_count": 30,
   "metadata": {},
   "outputs": [
    {
     "data": {
      "text/html": [
       "<div>\n",
       "<style scoped>\n",
       "    .dataframe tbody tr th:only-of-type {\n",
       "        vertical-align: middle;\n",
       "    }\n",
       "\n",
       "    .dataframe tbody tr th {\n",
       "        vertical-align: top;\n",
       "    }\n",
       "\n",
       "    .dataframe thead th {\n",
       "        text-align: right;\n",
       "    }\n",
       "</style>\n",
       "<table border=\"1\" class=\"dataframe\">\n",
       "  <thead>\n",
       "    <tr style=\"text-align: right;\">\n",
       "      <th></th>\n",
       "      <th>bundle_uuid</th>\n",
       "      <th>bundle_version</th>\n",
       "      <th>file_name</th>\n",
       "      <th>sample.biomaterial_core.biomaterial_id</th>\n",
       "      <th>date</th>\n",
       "    </tr>\n",
       "  </thead>\n",
       "  <tbody>\n",
       "    <tr>\n",
       "      <th>380</th>\n",
       "      <td>6ba77e54-c852-4799-9cf4-1a42d9321f96</td>\n",
       "      <td>2019-10-04T094331.590666Z</td>\n",
       "      <td>SRR7159836_S1_L004_R1_001.fastq.gz</td>\n",
       "      <td>Human_HC_1_colon_sample</td>\n",
       "      <td>2019-10-04 09:43:31.590666+00:00</td>\n",
       "    </tr>\n",
       "    <tr>\n",
       "      <th>345</th>\n",
       "      <td>6ba77e54-c852-4799-9cf4-1a42d9321f96</td>\n",
       "      <td>2019-10-04T094331.590666Z</td>\n",
       "      <td>SRR7159836_S1_L005_R1_001.fastq.gz</td>\n",
       "      <td>Human_HC_1_colon_sample</td>\n",
       "      <td>2019-10-04 09:43:31.590666+00:00</td>\n",
       "    </tr>\n",
       "    <tr>\n",
       "      <th>352</th>\n",
       "      <td>6ba77e54-c852-4799-9cf4-1a42d9321f96</td>\n",
       "      <td>2019-10-04T094331.590666Z</td>\n",
       "      <td>SRR7159836_S1_L006_R1_001.fastq.gz</td>\n",
       "      <td>Human_HC_1_colon_sample</td>\n",
       "      <td>2019-10-04 09:43:31.590666+00:00</td>\n",
       "    </tr>\n",
       "    <tr>\n",
       "      <th>381</th>\n",
       "      <td>6ba77e54-c852-4799-9cf4-1a42d9321f96</td>\n",
       "      <td>2019-10-04T094331.590666Z</td>\n",
       "      <td>SRR7159836_S1_L007_R1_001.fastq.gz</td>\n",
       "      <td>Human_HC_1_colon_sample</td>\n",
       "      <td>2019-10-04 09:43:31.590666+00:00</td>\n",
       "    </tr>\n",
       "    <tr>\n",
       "      <th>212</th>\n",
       "      <td>1d457990-da79-4c2f-9de6-f70d2c33b800</td>\n",
       "      <td>2019-10-04T094331.542689Z</td>\n",
       "      <td>SRR7159837_S1_L004_R1_001.fastq.gz</td>\n",
       "      <td>Human_HC_2_colon_sample</td>\n",
       "      <td>2019-10-04 09:43:31.542689+00:00</td>\n",
       "    </tr>\n",
       "    <tr>\n",
       "      <th>698</th>\n",
       "      <td>1d457990-da79-4c2f-9de6-f70d2c33b800</td>\n",
       "      <td>2019-10-04T094331.542689Z</td>\n",
       "      <td>SRR7159837_S1_L005_R1_001.fastq.gz</td>\n",
       "      <td>Human_HC_2_colon_sample</td>\n",
       "      <td>2019-10-04 09:43:31.542689+00:00</td>\n",
       "    </tr>\n",
       "    <tr>\n",
       "      <th>205</th>\n",
       "      <td>1d457990-da79-4c2f-9de6-f70d2c33b800</td>\n",
       "      <td>2019-10-04T094331.542689Z</td>\n",
       "      <td>SRR7159837_S1_L006_R1_001.fastq.gz</td>\n",
       "      <td>Human_HC_2_colon_sample</td>\n",
       "      <td>2019-10-04 09:43:31.542689+00:00</td>\n",
       "    </tr>\n",
       "    <tr>\n",
       "      <th>689</th>\n",
       "      <td>1d457990-da79-4c2f-9de6-f70d2c33b800</td>\n",
       "      <td>2019-10-04T094331.542689Z</td>\n",
       "      <td>SRR7159837_S1_L007_R1_001.fastq.gz</td>\n",
       "      <td>Human_HC_2_colon_sample</td>\n",
       "      <td>2019-10-04 09:43:31.542689+00:00</td>\n",
       "    </tr>\n",
       "    <tr>\n",
       "      <th>162</th>\n",
       "      <td>9ff12571-ab41-4246-806d-61db4baf347e</td>\n",
       "      <td>2019-10-04T094331.676137Z</td>\n",
       "      <td>SRR7159838_S1_L004_R1_001.fastq.gz</td>\n",
       "      <td>Human_UC_1_colon_sample</td>\n",
       "      <td>2019-10-04 09:43:31.676137+00:00</td>\n",
       "    </tr>\n",
       "    <tr>\n",
       "      <th>166</th>\n",
       "      <td>9ff12571-ab41-4246-806d-61db4baf347e</td>\n",
       "      <td>2019-10-04T094331.676137Z</td>\n",
       "      <td>SRR7159838_S1_L005_R1_001.fastq.gz</td>\n",
       "      <td>Human_UC_1_colon_sample</td>\n",
       "      <td>2019-10-04 09:43:31.676137+00:00</td>\n",
       "    </tr>\n",
       "    <tr>\n",
       "      <th>718</th>\n",
       "      <td>9ff12571-ab41-4246-806d-61db4baf347e</td>\n",
       "      <td>2019-10-04T094331.676137Z</td>\n",
       "      <td>SRR7159838_S1_L006_R1_001.fastq.gz</td>\n",
       "      <td>Human_UC_1_colon_sample</td>\n",
       "      <td>2019-10-04 09:43:31.676137+00:00</td>\n",
       "    </tr>\n",
       "    <tr>\n",
       "      <th>719</th>\n",
       "      <td>9ff12571-ab41-4246-806d-61db4baf347e</td>\n",
       "      <td>2019-10-04T094331.676137Z</td>\n",
       "      <td>SRR7159838_S1_L007_R1_001.fastq.gz</td>\n",
       "      <td>Human_UC_1_colon_sample</td>\n",
       "      <td>2019-10-04 09:43:31.676137+00:00</td>\n",
       "    </tr>\n",
       "    <tr>\n",
       "      <th>540</th>\n",
       "      <td>e7b7381c-e681-4da5-b9b0-a3e54761a514</td>\n",
       "      <td>2019-10-04T094331.678895Z</td>\n",
       "      <td>SRR7159839_S1_L004_R1_001.fastq.gz</td>\n",
       "      <td>Human_UC_2_colon_sample</td>\n",
       "      <td>2019-10-04 09:43:31.678895+00:00</td>\n",
       "    </tr>\n",
       "    <tr>\n",
       "      <th>929</th>\n",
       "      <td>e7b7381c-e681-4da5-b9b0-a3e54761a514</td>\n",
       "      <td>2019-10-04T094331.678895Z</td>\n",
       "      <td>SRR7159839_S1_L005_R1_001.fastq.gz</td>\n",
       "      <td>Human_UC_2_colon_sample</td>\n",
       "      <td>2019-10-04 09:43:31.678895+00:00</td>\n",
       "    </tr>\n",
       "    <tr>\n",
       "      <th>774</th>\n",
       "      <td>e7b7381c-e681-4da5-b9b0-a3e54761a514</td>\n",
       "      <td>2019-10-04T094331.678895Z</td>\n",
       "      <td>SRR7159839_S1_L006_R1_001.fastq.gz</td>\n",
       "      <td>Human_UC_2_colon_sample</td>\n",
       "      <td>2019-10-04 09:43:31.678895+00:00</td>\n",
       "    </tr>\n",
       "    <tr>\n",
       "      <th>781</th>\n",
       "      <td>e7b7381c-e681-4da5-b9b0-a3e54761a514</td>\n",
       "      <td>2019-10-04T094331.678895Z</td>\n",
       "      <td>SRR7159839_S1_L007_R1_001.fastq.gz</td>\n",
       "      <td>Human_UC_2_colon_sample</td>\n",
       "      <td>2019-10-04 09:43:31.678895+00:00</td>\n",
       "    </tr>\n",
       "  </tbody>\n",
       "</table>\n",
       "</div>"
      ],
      "text/plain": [
       "                              bundle_uuid             bundle_version  ... sample.biomaterial_core.biomaterial_id                             date\n",
       "380  6ba77e54-c852-4799-9cf4-1a42d9321f96  2019-10-04T094331.590666Z  ...                Human_HC_1_colon_sample 2019-10-04 09:43:31.590666+00:00\n",
       "345  6ba77e54-c852-4799-9cf4-1a42d9321f96  2019-10-04T094331.590666Z  ...                Human_HC_1_colon_sample 2019-10-04 09:43:31.590666+00:00\n",
       "352  6ba77e54-c852-4799-9cf4-1a42d9321f96  2019-10-04T094331.590666Z  ...                Human_HC_1_colon_sample 2019-10-04 09:43:31.590666+00:00\n",
       "381  6ba77e54-c852-4799-9cf4-1a42d9321f96  2019-10-04T094331.590666Z  ...                Human_HC_1_colon_sample 2019-10-04 09:43:31.590666+00:00\n",
       "212  1d457990-da79-4c2f-9de6-f70d2c33b800  2019-10-04T094331.542689Z  ...                Human_HC_2_colon_sample 2019-10-04 09:43:31.542689+00:00\n",
       "698  1d457990-da79-4c2f-9de6-f70d2c33b800  2019-10-04T094331.542689Z  ...                Human_HC_2_colon_sample 2019-10-04 09:43:31.542689+00:00\n",
       "205  1d457990-da79-4c2f-9de6-f70d2c33b800  2019-10-04T094331.542689Z  ...                Human_HC_2_colon_sample 2019-10-04 09:43:31.542689+00:00\n",
       "689  1d457990-da79-4c2f-9de6-f70d2c33b800  2019-10-04T094331.542689Z  ...                Human_HC_2_colon_sample 2019-10-04 09:43:31.542689+00:00\n",
       "162  9ff12571-ab41-4246-806d-61db4baf347e  2019-10-04T094331.676137Z  ...                Human_UC_1_colon_sample 2019-10-04 09:43:31.676137+00:00\n",
       "166  9ff12571-ab41-4246-806d-61db4baf347e  2019-10-04T094331.676137Z  ...                Human_UC_1_colon_sample 2019-10-04 09:43:31.676137+00:00\n",
       "718  9ff12571-ab41-4246-806d-61db4baf347e  2019-10-04T094331.676137Z  ...                Human_UC_1_colon_sample 2019-10-04 09:43:31.676137+00:00\n",
       "719  9ff12571-ab41-4246-806d-61db4baf347e  2019-10-04T094331.676137Z  ...                Human_UC_1_colon_sample 2019-10-04 09:43:31.676137+00:00\n",
       "540  e7b7381c-e681-4da5-b9b0-a3e54761a514  2019-10-04T094331.678895Z  ...                Human_UC_2_colon_sample 2019-10-04 09:43:31.678895+00:00\n",
       "929  e7b7381c-e681-4da5-b9b0-a3e54761a514  2019-10-04T094331.678895Z  ...                Human_UC_2_colon_sample 2019-10-04 09:43:31.678895+00:00\n",
       "774  e7b7381c-e681-4da5-b9b0-a3e54761a514  2019-10-04T094331.678895Z  ...                Human_UC_2_colon_sample 2019-10-04 09:43:31.678895+00:00\n",
       "781  e7b7381c-e681-4da5-b9b0-a3e54761a514  2019-10-04T094331.678895Z  ...                Human_UC_2_colon_sample 2019-10-04 09:43:31.678895+00:00\n",
       "\n",
       "[16 rows x 5 columns]"
      ]
     },
     "execution_count": 30,
     "metadata": {},
     "output_type": "execute_result"
    }
   ],
   "source": [
    "manifest_chunk.sort_values(by='bundle_version').drop_duplicates(subset=[\"file_name\"]).sort_values(by=\"file_name\")"
   ]
  }
 ],
 "metadata": {
  "kernelspec": {
   "display_name": "Python 3",
   "language": "python",
   "name": "python3"
  },
  "language_info": {
   "codemirror_mode": {
    "name": "ipython",
    "version": 3
   },
   "file_extension": ".py",
   "mimetype": "text/x-python",
   "name": "python",
   "nbconvert_exporter": "python",
   "pygments_lexer": "ipython3",
   "version": "3.8.0"
  }
 },
 "nbformat": 4,
 "nbformat_minor": 4
}
