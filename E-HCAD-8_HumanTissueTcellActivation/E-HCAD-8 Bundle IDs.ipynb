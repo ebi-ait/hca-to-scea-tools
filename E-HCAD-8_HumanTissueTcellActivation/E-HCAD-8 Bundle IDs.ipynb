{
 "cells": [
  {
   "cell_type": "markdown",
   "metadata": {},
   "source": [
    "# Bundle ID / Version column filler"
   ]
  },
  {
   "cell_type": "markdown",
   "metadata": {},
   "source": [
    "## 1. Dataset info"
   ]
  },
  {
   "cell_type": "code",
   "execution_count": 1,
   "metadata": {},
   "outputs": [],
   "source": [
    "accession_index = 8\n",
    "project_name = \"HumanTissueTcellActivation\""
   ]
  },
  {
   "cell_type": "code",
   "execution_count": 2,
   "metadata": {},
   "outputs": [],
   "source": [
    "work_dir = f\"E-HCAD-{accession_index}_{project_name}\"\n",
    "accession = f\"E-HCAD-{accession_index}\"\n",
    "protocol_accession = f\"HCAD{accession_index}\"\n",
    "idf_file_name = f\"{accession}.idf.txt\"\n",
    "sdrf_file_name = f\"{accession}.sdrf.txt\""
   ]
  },
  {
   "cell_type": "markdown",
   "metadata": {},
   "source": [
    "## 2. Load SDRF"
   ]
  },
  {
   "cell_type": "code",
   "execution_count": 3,
   "metadata": {},
   "outputs": [],
   "source": [
    "import pandas as pd\n",
    "pd.set_option('display.max_columns', 0)\n",
    "pd.set_option('display.max_rows', 0)"
   ]
  },
  {
   "cell_type": "code",
   "execution_count": 1,
   "metadata": {},
   "outputs": [
    {
     "ename": "NameError",
     "evalue": "name 'pd' is not defined",
     "output_type": "error",
     "traceback": [
      "\u001b[0;31m---------------------------------------------------------------------------\u001b[0m",
      "\u001b[0;31mNameError\u001b[0m                                 Traceback (most recent call last)",
      "\u001b[0;32m<ipython-input-1-fdf596858b32>\u001b[0m in \u001b[0;36m<module>\u001b[0;34m\u001b[0m\n\u001b[0;32m----> 1\u001b[0;31m \u001b[0msdrf\u001b[0m \u001b[0;34m=\u001b[0m \u001b[0mpd\u001b[0m\u001b[0;34m.\u001b[0m\u001b[0mread_csv\u001b[0m\u001b[0;34m(\u001b[0m\u001b[0msdrf_file_name\u001b[0m\u001b[0;34m,\u001b[0m \u001b[0msep\u001b[0m\u001b[0;34m=\u001b[0m\u001b[0;34m\"\\t\"\u001b[0m\u001b[0;34m,\u001b[0m \u001b[0mkeep_default_na\u001b[0m\u001b[0;34m=\u001b[0m\u001b[0;32mFalse\u001b[0m\u001b[0;34m)\u001b[0m\u001b[0;34m\u001b[0m\u001b[0;34m\u001b[0m\u001b[0m\n\u001b[0m",
      "\u001b[0;31mNameError\u001b[0m: name 'pd' is not defined"
     ]
    }
   ],
   "source": [
    "sdrf = pd.read_csv(sdrf_file_name, sep=\"\\t\", keep_default_na=False)"
   ]
  },
  {
   "cell_type": "code",
   "execution_count": 2,
   "metadata": {},
   "outputs": [
    {
     "ename": "NameError",
     "evalue": "name 'pd' is not defined",
     "output_type": "error",
     "traceback": [
      "\u001b[0;31m---------------------------------------------------------------------------\u001b[0m",
      "\u001b[0;31mNameError\u001b[0m                                 Traceback (most recent call last)",
      "\u001b[0;32m<ipython-input-2-88b728599635>\u001b[0m in \u001b[0;36m<module>\u001b[0;34m\u001b[0m\n\u001b[0;32m----> 1\u001b[0;31m \u001b[0mmanifest\u001b[0m \u001b[0;34m=\u001b[0m \u001b[0mpd\u001b[0m\u001b[0;34m.\u001b[0m\u001b[0mread_csv\u001b[0m\u001b[0;34m(\u001b[0m\u001b[0;34mf\"../hca_manifest.tsv\"\u001b[0m\u001b[0;34m,\u001b[0m \u001b[0msep\u001b[0m\u001b[0;34m=\u001b[0m\u001b[0;34m\"\\t\"\u001b[0m\u001b[0;34m,\u001b[0m \u001b[0mkeep_default_na\u001b[0m\u001b[0;34m=\u001b[0m\u001b[0;32mFalse\u001b[0m\u001b[0;34m)\u001b[0m\u001b[0;34m\u001b[0m\u001b[0;34m\u001b[0m\u001b[0m\n\u001b[0m",
      "\u001b[0;31mNameError\u001b[0m: name 'pd' is not defined"
     ]
    }
   ],
   "source": [
    "manifest = pd.read_csv(f\"../hca_manifest.tsv\", sep=\"\\t\", keep_default_na=False)"
   ]
  },
  {
   "cell_type": "markdown",
   "metadata": {},
   "source": [
    "## 3. Select required piece of the manifest"
   ]
  },
  {
   "cell_type": "code",
   "execution_count": 10,
   "metadata": {},
   "outputs": [],
   "source": [
    "required_cols = [\"bundle_uuid\", \"bundle_version\", \"file_name\", \"sample.biomaterial_core.biomaterial_id\"]\n",
    "manifest_chunk = manifest.loc[manifest['project.project_core.project_short_name'] == project_name][required_cols]"
   ]
  },
  {
   "cell_type": "markdown",
   "metadata": {},
   "source": [
    "## 4. Filter bundle IDs\n",
    "Take the earliest versions of the file bundles:\n",
    "1. Sort by bundle version date.\n",
    "2. Drop duplicates."
   ]
  },
  {
   "cell_type": "code",
   "execution_count": 12,
   "metadata": {},
   "outputs": [],
   "source": [
    "manifest_chunk['date'] = pd.to_datetime(manifest_chunk['bundle_version'])"
   ]
  },
  {
   "cell_type": "code",
   "execution_count": 14,
   "metadata": {},
   "outputs": [
    {
     "data": {
      "text/html": [
       "<div>\n",
       "<style scoped>\n",
       "    .dataframe tbody tr th:only-of-type {\n",
       "        vertical-align: middle;\n",
       "    }\n",
       "\n",
       "    .dataframe tbody tr th {\n",
       "        vertical-align: top;\n",
       "    }\n",
       "\n",
       "    .dataframe thead th {\n",
       "        text-align: right;\n",
       "    }\n",
       "</style>\n",
       "<table border=\"1\" class=\"dataframe\">\n",
       "  <thead>\n",
       "    <tr style=\"text-align: right;\">\n",
       "      <th></th>\n",
       "      <th>bundle_uuid</th>\n",
       "      <th>bundle_version</th>\n",
       "      <th>file_name</th>\n",
       "      <th>sample.biomaterial_core.biomaterial_id</th>\n",
       "      <th>date</th>\n",
       "    </tr>\n",
       "  </thead>\n",
       "  <tbody>\n",
       "    <tr>\n",
       "      <th>1261</th>\n",
       "      <td>fc2ff50a-9cf0-4ad6-82fe-861cc4be76f8</td>\n",
       "      <td>2019-09-13T180237.644894Z</td>\n",
       "      <td>PP001_R1.fastq.gz</td>\n",
       "      <td>PP001</td>\n",
       "      <td>2019-09-13 18:02:37.644894+00:00</td>\n",
       "    </tr>\n",
       "    <tr>\n",
       "      <th>608</th>\n",
       "      <td>382c310a-6297-488b-b79f-5da262bfd173</td>\n",
       "      <td>2019-09-13T180237.653252Z</td>\n",
       "      <td>PP002_R2.fastq.gz</td>\n",
       "      <td>PP002</td>\n",
       "      <td>2019-09-13 18:02:37.653252+00:00</td>\n",
       "    </tr>\n",
       "    <tr>\n",
       "      <th>979</th>\n",
       "      <td>9ff236e0-a891-4597-8424-bcc2ff8d632e</td>\n",
       "      <td>2019-09-13T180237.648757Z</td>\n",
       "      <td>PP003_R1.fastq.gz</td>\n",
       "      <td>PP003</td>\n",
       "      <td>2019-09-13 18:02:37.648757+00:00</td>\n",
       "    </tr>\n",
       "    <tr>\n",
       "      <th>1098</th>\n",
       "      <td>e82a1602-06a2-4837-b357-bc94807a1d44</td>\n",
       "      <td>2019-09-13T180237.642988Z</td>\n",
       "      <td>PP004_R1.fastq.gz</td>\n",
       "      <td>PP004</td>\n",
       "      <td>2019-09-13 18:02:37.642988+00:00</td>\n",
       "    </tr>\n",
       "    <tr>\n",
       "      <th>869</th>\n",
       "      <td>df9c7528-333f-41d6-88eb-148af857e83a</td>\n",
       "      <td>2019-09-13T180237.640892Z</td>\n",
       "      <td>PP005_R2.fastq.gz</td>\n",
       "      <td>PP005</td>\n",
       "      <td>2019-09-13 18:02:37.640892+00:00</td>\n",
       "    </tr>\n",
       "    <tr>\n",
       "      <th>407</th>\n",
       "      <td>f3b7ca6b-84a3-43ba-afad-a78beae7c927</td>\n",
       "      <td>2019-09-13T180237.638486Z</td>\n",
       "      <td>PP006_R2.fastq.gz</td>\n",
       "      <td>PP006</td>\n",
       "      <td>2019-09-13 18:02:37.638486+00:00</td>\n",
       "    </tr>\n",
       "    <tr>\n",
       "      <th>148</th>\n",
       "      <td>7b9f6603-ce3f-48a4-9f4e-0b4fbe5351c8</td>\n",
       "      <td>2019-09-13T180237.641916Z</td>\n",
       "      <td>PP009_R1.fastq.gz</td>\n",
       "      <td>PP009</td>\n",
       "      <td>2019-09-13 18:02:37.641916+00:00</td>\n",
       "    </tr>\n",
       "    <tr>\n",
       "      <th>847</th>\n",
       "      <td>d5cfddb3-21c5-48af-8bfa-89a150c66de9</td>\n",
       "      <td>2019-09-13T180237.643788Z</td>\n",
       "      <td>PP010_R1.fastq.gz</td>\n",
       "      <td>PP010</td>\n",
       "      <td>2019-09-13 18:02:37.643788+00:00</td>\n",
       "    </tr>\n",
       "    <tr>\n",
       "      <th>557</th>\n",
       "      <td>dde6b553-f1dd-4d2c-98f3-fbecc68c1676</td>\n",
       "      <td>2019-09-14T093029.073936Z</td>\n",
       "      <td>PP011_R2.fastq.gz</td>\n",
       "      <td>PP011</td>\n",
       "      <td>2019-09-14 09:30:29.073936+00:00</td>\n",
       "    </tr>\n",
       "    <tr>\n",
       "      <th>624</th>\n",
       "      <td>792eb80a-8fe3-4449-9427-00fd71011926</td>\n",
       "      <td>2019-09-13T180237.645665Z</td>\n",
       "      <td>PP012_R2.fastq.gz</td>\n",
       "      <td>PP012</td>\n",
       "      <td>2019-09-13 18:02:37.645665+00:00</td>\n",
       "    </tr>\n",
       "    <tr>\n",
       "      <th>74</th>\n",
       "      <td>67295473-f856-403f-b893-b849f0b781fa</td>\n",
       "      <td>2019-09-13T180237.639820Z</td>\n",
       "      <td>PP013_R2.fastq.gz</td>\n",
       "      <td>PP013</td>\n",
       "      <td>2019-09-13 18:02:37.639820+00:00</td>\n",
       "    </tr>\n",
       "    <tr>\n",
       "      <th>785</th>\n",
       "      <td>a35160a8-fd54-4e19-8fef-722bd23dce36</td>\n",
       "      <td>2019-09-13T180237.652306Z</td>\n",
       "      <td>PP014_R1.fastq.gz</td>\n",
       "      <td>PP014</td>\n",
       "      <td>2019-09-13 18:02:37.652306+00:00</td>\n",
       "    </tr>\n",
       "    <tr>\n",
       "      <th>1013</th>\n",
       "      <td>4c04a68c-e185-42f3-ab6b-a41e35c3ee65</td>\n",
       "      <td>2019-09-13T180237.649766Z</td>\n",
       "      <td>PP017_R1.fastq.gz</td>\n",
       "      <td>PP017</td>\n",
       "      <td>2019-09-13 18:02:37.649766+00:00</td>\n",
       "    </tr>\n",
       "    <tr>\n",
       "      <th>251</th>\n",
       "      <td>0d623639-1fbe-45ce-a466-0cf14f180521</td>\n",
       "      <td>2019-09-13T180237.637173Z</td>\n",
       "      <td>PP018_R1.fastq.gz</td>\n",
       "      <td>PP018</td>\n",
       "      <td>2019-09-13 18:02:37.637173+00:00</td>\n",
       "    </tr>\n",
       "    <tr>\n",
       "      <th>853</th>\n",
       "      <td>5395ccdf-03f7-4955-90b1-192b1b297e5e</td>\n",
       "      <td>2019-09-13T180237.651387Z</td>\n",
       "      <td>PP019_R1.fastq.gz</td>\n",
       "      <td>PP019</td>\n",
       "      <td>2019-09-13 18:02:37.651387+00:00</td>\n",
       "    </tr>\n",
       "    <tr>\n",
       "      <th>549</th>\n",
       "      <td>0aee9bc6-aecc-4bc9-9964-b910cbc851fc</td>\n",
       "      <td>2019-09-13T180237.646632Z</td>\n",
       "      <td>PP020_R1.fastq.gz</td>\n",
       "      <td>PP020</td>\n",
       "      <td>2019-09-13 18:02:37.646632+00:00</td>\n",
       "    </tr>\n",
       "  </tbody>\n",
       "</table>\n",
       "</div>"
      ],
      "text/plain": [
       "                               bundle_uuid             bundle_version          file_name sample.biomaterial_core.biomaterial_id                             date\n",
       "1261  fc2ff50a-9cf0-4ad6-82fe-861cc4be76f8  2019-09-13T180237.644894Z  PP001_R1.fastq.gz                                  PP001 2019-09-13 18:02:37.644894+00:00\n",
       "608   382c310a-6297-488b-b79f-5da262bfd173  2019-09-13T180237.653252Z  PP002_R2.fastq.gz                                  PP002 2019-09-13 18:02:37.653252+00:00\n",
       "979   9ff236e0-a891-4597-8424-bcc2ff8d632e  2019-09-13T180237.648757Z  PP003_R1.fastq.gz                                  PP003 2019-09-13 18:02:37.648757+00:00\n",
       "1098  e82a1602-06a2-4837-b357-bc94807a1d44  2019-09-13T180237.642988Z  PP004_R1.fastq.gz                                  PP004 2019-09-13 18:02:37.642988+00:00\n",
       "869   df9c7528-333f-41d6-88eb-148af857e83a  2019-09-13T180237.640892Z  PP005_R2.fastq.gz                                  PP005 2019-09-13 18:02:37.640892+00:00\n",
       "407   f3b7ca6b-84a3-43ba-afad-a78beae7c927  2019-09-13T180237.638486Z  PP006_R2.fastq.gz                                  PP006 2019-09-13 18:02:37.638486+00:00\n",
       "148   7b9f6603-ce3f-48a4-9f4e-0b4fbe5351c8  2019-09-13T180237.641916Z  PP009_R1.fastq.gz                                  PP009 2019-09-13 18:02:37.641916+00:00\n",
       "847   d5cfddb3-21c5-48af-8bfa-89a150c66de9  2019-09-13T180237.643788Z  PP010_R1.fastq.gz                                  PP010 2019-09-13 18:02:37.643788+00:00\n",
       "557   dde6b553-f1dd-4d2c-98f3-fbecc68c1676  2019-09-14T093029.073936Z  PP011_R2.fastq.gz                                  PP011 2019-09-14 09:30:29.073936+00:00\n",
       "624   792eb80a-8fe3-4449-9427-00fd71011926  2019-09-13T180237.645665Z  PP012_R2.fastq.gz                                  PP012 2019-09-13 18:02:37.645665+00:00\n",
       "74    67295473-f856-403f-b893-b849f0b781fa  2019-09-13T180237.639820Z  PP013_R2.fastq.gz                                  PP013 2019-09-13 18:02:37.639820+00:00\n",
       "785   a35160a8-fd54-4e19-8fef-722bd23dce36  2019-09-13T180237.652306Z  PP014_R1.fastq.gz                                  PP014 2019-09-13 18:02:37.652306+00:00\n",
       "1013  4c04a68c-e185-42f3-ab6b-a41e35c3ee65  2019-09-13T180237.649766Z  PP017_R1.fastq.gz                                  PP017 2019-09-13 18:02:37.649766+00:00\n",
       "251   0d623639-1fbe-45ce-a466-0cf14f180521  2019-09-13T180237.637173Z  PP018_R1.fastq.gz                                  PP018 2019-09-13 18:02:37.637173+00:00\n",
       "853   5395ccdf-03f7-4955-90b1-192b1b297e5e  2019-09-13T180237.651387Z  PP019_R1.fastq.gz                                  PP019 2019-09-13 18:02:37.651387+00:00\n",
       "549   0aee9bc6-aecc-4bc9-9964-b910cbc851fc  2019-09-13T180237.646632Z  PP020_R1.fastq.gz                                  PP020 2019-09-13 18:02:37.646632+00:00"
      ]
     },
     "execution_count": 14,
     "metadata": {},
     "output_type": "execute_result"
    }
   ],
   "source": [
    "manifest_chunk.sort_values(by='bundle_version').drop_duplicates(subset=[\"sample.biomaterial_core.biomaterial_id\"]).sort_values(by=\"file_name\")"
   ]
  }
 ],
 "metadata": {
  "kernelspec": {
   "display_name": "Python 3",
   "language": "python",
   "name": "python3"
  },
  "language_info": {
   "codemirror_mode": {
    "name": "ipython",
    "version": 3
   },
   "file_extension": ".py",
   "mimetype": "text/x-python",
   "name": "python",
   "nbconvert_exporter": "python",
   "pygments_lexer": "ipython3",
   "version": "3.8.0"
  }
 },
 "nbformat": 4,
 "nbformat_minor": 4
}
