{
 "cells": [
  {
   "cell_type": "markdown",
   "metadata": {},
   "source": [
    "# Bundle ID / Version column filler"
   ]
  },
  {
   "cell_type": "markdown",
   "metadata": {},
   "source": [
    "## 1. Dataset info"
   ]
  },
  {
   "cell_type": "code",
   "execution_count": 1,
   "metadata": {},
   "outputs": [],
   "source": [
    "accession_index = 13\n",
    "project_name = \"Reprogrammed_Dendritic_Cells\""
   ]
  },
  {
   "cell_type": "code",
   "execution_count": 2,
   "metadata": {},
   "outputs": [],
   "source": [
    "work_dir = f\"E-HCAD-{accession_index}_{project_name}\"\n",
    "accession = f\"E-HCAD-{accession_index}\"\n",
    "protocol_accession = f\"HCAD{accession_index}\"\n",
    "idf_file_name = f\"{accession}.idf.txt\"\n",
    "sdrf_file_name = f\"{accession}.sdrf.txt\""
   ]
  },
  {
   "cell_type": "markdown",
   "metadata": {},
   "source": [
    "## 2. Load SDRF"
   ]
  },
  {
   "cell_type": "code",
   "execution_count": 3,
   "metadata": {},
   "outputs": [],
   "source": [
    "import pandas as pd\n",
    "pd.set_option('display.max_columns', 0)\n",
    "pd.set_option('display.max_rows', 0)"
   ]
  },
  {
   "cell_type": "code",
   "execution_count": 5,
   "metadata": {},
   "outputs": [],
   "source": [
    "sdrf = pd.read_csv(sdrf_file_name, sep=\"\\t\", keep_default_na=False)"
   ]
  },
  {
   "cell_type": "code",
   "execution_count": 16,
   "metadata": {},
   "outputs": [],
   "source": [
    "manifest = pd.read_csv(f\"../hca_manifest.tsv\", sep=\"\\t\", keep_default_na=False)"
   ]
  },
  {
   "cell_type": "markdown",
   "metadata": {},
   "source": [
    "## 3. Select required piece of the manifest"
   ]
  },
  {
   "cell_type": "code",
   "execution_count": 17,
   "metadata": {},
   "outputs": [],
   "source": [
    "required_cols = [\"bundle_uuid\", \"bundle_version\", \"file_name\", \"sample.biomaterial_core.biomaterial_id\"]\n",
    "manifest_chunk = manifest.loc[manifest['project.project_core.project_short_name'] == project_name][required_cols]"
   ]
  },
  {
   "cell_type": "markdown",
   "metadata": {},
   "source": [
    "## 4. Filter bundle IDs\n",
    "Take the earliest versions of the file bundles:\n",
    "1. Sort by bundle version date.\n",
    "2. Drop duplicates."
   ]
  },
  {
   "cell_type": "code",
   "execution_count": 20,
   "metadata": {},
   "outputs": [],
   "source": [
    "manifest_chunk['file_part'] = manifest_chunk['file_name'].str.slice(0, -12)"
   ]
  },
  {
   "cell_type": "code",
   "execution_count": 21,
   "metadata": {},
   "outputs": [],
   "source": [
    "manifest_chunk = manifest_chunk.drop_duplicates(subset=['file_part'])"
   ]
  },
  {
   "cell_type": "code",
   "execution_count": 22,
   "metadata": {},
   "outputs": [
    {
     "data": {
      "text/html": [
       "<div>\n",
       "<style scoped>\n",
       "    .dataframe tbody tr th:only-of-type {\n",
       "        vertical-align: middle;\n",
       "    }\n",
       "\n",
       "    .dataframe tbody tr th {\n",
       "        vertical-align: top;\n",
       "    }\n",
       "\n",
       "    .dataframe thead th {\n",
       "        text-align: right;\n",
       "    }\n",
       "</style>\n",
       "<table border=\"1\" class=\"dataframe\">\n",
       "  <thead>\n",
       "    <tr style=\"text-align: right;\">\n",
       "      <th></th>\n",
       "      <th>bundle_uuid</th>\n",
       "      <th>bundle_version</th>\n",
       "      <th>file_name</th>\n",
       "      <th>sample.biomaterial_core.biomaterial_id</th>\n",
       "      <th>file_part</th>\n",
       "    </tr>\n",
       "  </thead>\n",
       "  <tbody>\n",
       "    <tr>\n",
       "      <th>501</th>\n",
       "      <td>cb88115c-75ef-4e8e-bbd7-a48e18960344</td>\n",
       "      <td>2019-10-03T105524.915852Z</td>\n",
       "      <td>IDC9_L002_R1.fastq.gz</td>\n",
       "      <td>Cell_line_2 || Specimen1</td>\n",
       "      <td>IDC9_L002</td>\n",
       "    </tr>\n",
       "    <tr>\n",
       "      <th>515</th>\n",
       "      <td>cb88115c-75ef-4e8e-bbd7-a48e18960344</td>\n",
       "      <td>2019-10-03T105524.915852Z</td>\n",
       "      <td>IDC9_L001_I1.fastq.gz</td>\n",
       "      <td>Cell_line_2 || Specimen1</td>\n",
       "      <td>IDC9_L001</td>\n",
       "    </tr>\n",
       "    <tr>\n",
       "      <th>651</th>\n",
       "      <td>1307154a-0396-4f2c-a1bf-4a2bf593b1a0</td>\n",
       "      <td>2019-10-03T105524.914465Z</td>\n",
       "      <td>HEF_L004_I1.fastq.gz</td>\n",
       "      <td>Specimen1</td>\n",
       "      <td>HEF_L004</td>\n",
       "    </tr>\n",
       "    <tr>\n",
       "      <th>653</th>\n",
       "      <td>c6633095-68f9-4118-981b-16dc8b42a5a1</td>\n",
       "      <td>2019-10-03T105524.913003Z</td>\n",
       "      <td>HEF_L003_R1.fastq.gz</td>\n",
       "      <td>Specimen1</td>\n",
       "      <td>HEF_L003</td>\n",
       "    </tr>\n",
       "    <tr>\n",
       "      <th>655</th>\n",
       "      <td>1307154a-0396-4f2c-a1bf-4a2bf593b1a0</td>\n",
       "      <td>2019-10-03T105524.914465Z</td>\n",
       "      <td>HEF_L002_R1.fastq.gz</td>\n",
       "      <td>Specimen1</td>\n",
       "      <td>HEF_L002</td>\n",
       "    </tr>\n",
       "    <tr>\n",
       "      <th>659</th>\n",
       "      <td>c6633095-68f9-4118-981b-16dc8b42a5a1</td>\n",
       "      <td>2019-10-03T105524.913003Z</td>\n",
       "      <td>HEF_L001_R1.fastq.gz</td>\n",
       "      <td>Specimen1</td>\n",
       "      <td>HEF_L001</td>\n",
       "    </tr>\n",
       "    <tr>\n",
       "      <th>812</th>\n",
       "      <td>52245757-73ba-43a2-a78d-0eba01cb4ce1</td>\n",
       "      <td>2019-10-03T105524.918205Z</td>\n",
       "      <td>IDC3_L001_I1.fastq.gz</td>\n",
       "      <td>Cell_line_1 || Specimen1</td>\n",
       "      <td>IDC3_L001</td>\n",
       "    </tr>\n",
       "    <tr>\n",
       "      <th>814</th>\n",
       "      <td>52245757-73ba-43a2-a78d-0eba01cb4ce1</td>\n",
       "      <td>2019-10-03T105524.918205Z</td>\n",
       "      <td>IDC3_L003_R2.fastq.gz</td>\n",
       "      <td>Cell_line_1 || Specimen1</td>\n",
       "      <td>IDC3_L003</td>\n",
       "    </tr>\n",
       "    <tr>\n",
       "      <th>816</th>\n",
       "      <td>52245757-73ba-43a2-a78d-0eba01cb4ce1</td>\n",
       "      <td>2019-10-03T105524.918205Z</td>\n",
       "      <td>IDC3_L004_R2.fastq.gz</td>\n",
       "      <td>Cell_line_1 || Specimen1</td>\n",
       "      <td>IDC3_L004</td>\n",
       "    </tr>\n",
       "    <tr>\n",
       "      <th>820</th>\n",
       "      <td>52245757-73ba-43a2-a78d-0eba01cb4ce1</td>\n",
       "      <td>2019-10-03T105524.918205Z</td>\n",
       "      <td>IDC3_L002_R2.fastq.gz</td>\n",
       "      <td>Cell_line_1 || Specimen1</td>\n",
       "      <td>IDC3_L002</td>\n",
       "    </tr>\n",
       "    <tr>\n",
       "      <th>1075</th>\n",
       "      <td>cb88115c-75ef-4e8e-bbd7-a48e18960344</td>\n",
       "      <td>2019-10-03T105524.915852Z</td>\n",
       "      <td>IDC9_L003_R1.fastq.gz</td>\n",
       "      <td>Cell_line_2 || Specimen1</td>\n",
       "      <td>IDC9_L003</td>\n",
       "    </tr>\n",
       "    <tr>\n",
       "      <th>1079</th>\n",
       "      <td>cb88115c-75ef-4e8e-bbd7-a48e18960344</td>\n",
       "      <td>2019-10-03T105524.915852Z</td>\n",
       "      <td>IDC9_L004_R2.fastq.gz</td>\n",
       "      <td>Cell_line_2 || Specimen1</td>\n",
       "      <td>IDC9_L004</td>\n",
       "    </tr>\n",
       "  </tbody>\n",
       "</table>\n",
       "</div>"
      ],
      "text/plain": [
       "                               bundle_uuid             bundle_version              file_name sample.biomaterial_core.biomaterial_id  file_part\n",
       "501   cb88115c-75ef-4e8e-bbd7-a48e18960344  2019-10-03T105524.915852Z  IDC9_L002_R1.fastq.gz               Cell_line_2 || Specimen1  IDC9_L002\n",
       "515   cb88115c-75ef-4e8e-bbd7-a48e18960344  2019-10-03T105524.915852Z  IDC9_L001_I1.fastq.gz               Cell_line_2 || Specimen1  IDC9_L001\n",
       "651   1307154a-0396-4f2c-a1bf-4a2bf593b1a0  2019-10-03T105524.914465Z   HEF_L004_I1.fastq.gz                              Specimen1   HEF_L004\n",
       "653   c6633095-68f9-4118-981b-16dc8b42a5a1  2019-10-03T105524.913003Z   HEF_L003_R1.fastq.gz                              Specimen1   HEF_L003\n",
       "655   1307154a-0396-4f2c-a1bf-4a2bf593b1a0  2019-10-03T105524.914465Z   HEF_L002_R1.fastq.gz                              Specimen1   HEF_L002\n",
       "659   c6633095-68f9-4118-981b-16dc8b42a5a1  2019-10-03T105524.913003Z   HEF_L001_R1.fastq.gz                              Specimen1   HEF_L001\n",
       "812   52245757-73ba-43a2-a78d-0eba01cb4ce1  2019-10-03T105524.918205Z  IDC3_L001_I1.fastq.gz               Cell_line_1 || Specimen1  IDC3_L001\n",
       "814   52245757-73ba-43a2-a78d-0eba01cb4ce1  2019-10-03T105524.918205Z  IDC3_L003_R2.fastq.gz               Cell_line_1 || Specimen1  IDC3_L003\n",
       "816   52245757-73ba-43a2-a78d-0eba01cb4ce1  2019-10-03T105524.918205Z  IDC3_L004_R2.fastq.gz               Cell_line_1 || Specimen1  IDC3_L004\n",
       "820   52245757-73ba-43a2-a78d-0eba01cb4ce1  2019-10-03T105524.918205Z  IDC3_L002_R2.fastq.gz               Cell_line_1 || Specimen1  IDC3_L002\n",
       "1075  cb88115c-75ef-4e8e-bbd7-a48e18960344  2019-10-03T105524.915852Z  IDC9_L003_R1.fastq.gz               Cell_line_2 || Specimen1  IDC9_L003\n",
       "1079  cb88115c-75ef-4e8e-bbd7-a48e18960344  2019-10-03T105524.915852Z  IDC9_L004_R2.fastq.gz               Cell_line_2 || Specimen1  IDC9_L004"
      ]
     },
     "execution_count": 22,
     "metadata": {},
     "output_type": "execute_result"
    }
   ],
   "source": [
    "manifest_chunk"
   ]
  },
  {
   "cell_type": "code",
   "execution_count": 23,
   "metadata": {},
   "outputs": [
    {
     "name": "stderr",
     "output_type": "stream",
     "text": [
      "<ipython-input-23-98bb69319139>:1: SettingWithCopyWarning: \n",
      "A value is trying to be set on a copy of a slice from a DataFrame.\n",
      "Try using .loc[row_indexer,col_indexer] = value instead\n",
      "\n",
      "See the caveats in the documentation: https://pandas.pydata.org/pandas-docs/stable/user_guide/indexing.html#returning-a-view-versus-a-copy\n",
      "  manifest_chunk['date'] = pd.to_datetime(manifest_chunk['bundle_version'])\n"
     ]
    }
   ],
   "source": [
    "manifest_chunk['date'] = pd.to_datetime(manifest_chunk['bundle_version'])"
   ]
  },
  {
   "cell_type": "code",
   "execution_count": 24,
   "metadata": {},
   "outputs": [
    {
     "data": {
      "text/html": [
       "<div>\n",
       "<style scoped>\n",
       "    .dataframe tbody tr th:only-of-type {\n",
       "        vertical-align: middle;\n",
       "    }\n",
       "\n",
       "    .dataframe tbody tr th {\n",
       "        vertical-align: top;\n",
       "    }\n",
       "\n",
       "    .dataframe thead th {\n",
       "        text-align: right;\n",
       "    }\n",
       "</style>\n",
       "<table border=\"1\" class=\"dataframe\">\n",
       "  <thead>\n",
       "    <tr style=\"text-align: right;\">\n",
       "      <th></th>\n",
       "      <th>bundle_uuid</th>\n",
       "      <th>bundle_version</th>\n",
       "      <th>file_name</th>\n",
       "      <th>sample.biomaterial_core.biomaterial_id</th>\n",
       "      <th>file_part</th>\n",
       "      <th>date</th>\n",
       "    </tr>\n",
       "  </thead>\n",
       "  <tbody>\n",
       "    <tr>\n",
       "      <th>659</th>\n",
       "      <td>c6633095-68f9-4118-981b-16dc8b42a5a1</td>\n",
       "      <td>2019-10-03T105524.913003Z</td>\n",
       "      <td>HEF_L001_R1.fastq.gz</td>\n",
       "      <td>Specimen1</td>\n",
       "      <td>HEF_L001</td>\n",
       "      <td>2019-10-03 10:55:24.913003+00:00</td>\n",
       "    </tr>\n",
       "    <tr>\n",
       "      <th>655</th>\n",
       "      <td>1307154a-0396-4f2c-a1bf-4a2bf593b1a0</td>\n",
       "      <td>2019-10-03T105524.914465Z</td>\n",
       "      <td>HEF_L002_R1.fastq.gz</td>\n",
       "      <td>Specimen1</td>\n",
       "      <td>HEF_L002</td>\n",
       "      <td>2019-10-03 10:55:24.914465+00:00</td>\n",
       "    </tr>\n",
       "    <tr>\n",
       "      <th>653</th>\n",
       "      <td>c6633095-68f9-4118-981b-16dc8b42a5a1</td>\n",
       "      <td>2019-10-03T105524.913003Z</td>\n",
       "      <td>HEF_L003_R1.fastq.gz</td>\n",
       "      <td>Specimen1</td>\n",
       "      <td>HEF_L003</td>\n",
       "      <td>2019-10-03 10:55:24.913003+00:00</td>\n",
       "    </tr>\n",
       "    <tr>\n",
       "      <th>651</th>\n",
       "      <td>1307154a-0396-4f2c-a1bf-4a2bf593b1a0</td>\n",
       "      <td>2019-10-03T105524.914465Z</td>\n",
       "      <td>HEF_L004_I1.fastq.gz</td>\n",
       "      <td>Specimen1</td>\n",
       "      <td>HEF_L004</td>\n",
       "      <td>2019-10-03 10:55:24.914465+00:00</td>\n",
       "    </tr>\n",
       "    <tr>\n",
       "      <th>812</th>\n",
       "      <td>52245757-73ba-43a2-a78d-0eba01cb4ce1</td>\n",
       "      <td>2019-10-03T105524.918205Z</td>\n",
       "      <td>IDC3_L001_I1.fastq.gz</td>\n",
       "      <td>Cell_line_1 || Specimen1</td>\n",
       "      <td>IDC3_L001</td>\n",
       "      <td>2019-10-03 10:55:24.918205+00:00</td>\n",
       "    </tr>\n",
       "    <tr>\n",
       "      <th>820</th>\n",
       "      <td>52245757-73ba-43a2-a78d-0eba01cb4ce1</td>\n",
       "      <td>2019-10-03T105524.918205Z</td>\n",
       "      <td>IDC3_L002_R2.fastq.gz</td>\n",
       "      <td>Cell_line_1 || Specimen1</td>\n",
       "      <td>IDC3_L002</td>\n",
       "      <td>2019-10-03 10:55:24.918205+00:00</td>\n",
       "    </tr>\n",
       "    <tr>\n",
       "      <th>814</th>\n",
       "      <td>52245757-73ba-43a2-a78d-0eba01cb4ce1</td>\n",
       "      <td>2019-10-03T105524.918205Z</td>\n",
       "      <td>IDC3_L003_R2.fastq.gz</td>\n",
       "      <td>Cell_line_1 || Specimen1</td>\n",
       "      <td>IDC3_L003</td>\n",
       "      <td>2019-10-03 10:55:24.918205+00:00</td>\n",
       "    </tr>\n",
       "    <tr>\n",
       "      <th>816</th>\n",
       "      <td>52245757-73ba-43a2-a78d-0eba01cb4ce1</td>\n",
       "      <td>2019-10-03T105524.918205Z</td>\n",
       "      <td>IDC3_L004_R2.fastq.gz</td>\n",
       "      <td>Cell_line_1 || Specimen1</td>\n",
       "      <td>IDC3_L004</td>\n",
       "      <td>2019-10-03 10:55:24.918205+00:00</td>\n",
       "    </tr>\n",
       "    <tr>\n",
       "      <th>515</th>\n",
       "      <td>cb88115c-75ef-4e8e-bbd7-a48e18960344</td>\n",
       "      <td>2019-10-03T105524.915852Z</td>\n",
       "      <td>IDC9_L001_I1.fastq.gz</td>\n",
       "      <td>Cell_line_2 || Specimen1</td>\n",
       "      <td>IDC9_L001</td>\n",
       "      <td>2019-10-03 10:55:24.915852+00:00</td>\n",
       "    </tr>\n",
       "    <tr>\n",
       "      <th>501</th>\n",
       "      <td>cb88115c-75ef-4e8e-bbd7-a48e18960344</td>\n",
       "      <td>2019-10-03T105524.915852Z</td>\n",
       "      <td>IDC9_L002_R1.fastq.gz</td>\n",
       "      <td>Cell_line_2 || Specimen1</td>\n",
       "      <td>IDC9_L002</td>\n",
       "      <td>2019-10-03 10:55:24.915852+00:00</td>\n",
       "    </tr>\n",
       "    <tr>\n",
       "      <th>1075</th>\n",
       "      <td>cb88115c-75ef-4e8e-bbd7-a48e18960344</td>\n",
       "      <td>2019-10-03T105524.915852Z</td>\n",
       "      <td>IDC9_L003_R1.fastq.gz</td>\n",
       "      <td>Cell_line_2 || Specimen1</td>\n",
       "      <td>IDC9_L003</td>\n",
       "      <td>2019-10-03 10:55:24.915852+00:00</td>\n",
       "    </tr>\n",
       "    <tr>\n",
       "      <th>1079</th>\n",
       "      <td>cb88115c-75ef-4e8e-bbd7-a48e18960344</td>\n",
       "      <td>2019-10-03T105524.915852Z</td>\n",
       "      <td>IDC9_L004_R2.fastq.gz</td>\n",
       "      <td>Cell_line_2 || Specimen1</td>\n",
       "      <td>IDC9_L004</td>\n",
       "      <td>2019-10-03 10:55:24.915852+00:00</td>\n",
       "    </tr>\n",
       "  </tbody>\n",
       "</table>\n",
       "</div>"
      ],
      "text/plain": [
       "                               bundle_uuid             bundle_version  ...  file_part                             date\n",
       "659   c6633095-68f9-4118-981b-16dc8b42a5a1  2019-10-03T105524.913003Z  ...   HEF_L001 2019-10-03 10:55:24.913003+00:00\n",
       "655   1307154a-0396-4f2c-a1bf-4a2bf593b1a0  2019-10-03T105524.914465Z  ...   HEF_L002 2019-10-03 10:55:24.914465+00:00\n",
       "653   c6633095-68f9-4118-981b-16dc8b42a5a1  2019-10-03T105524.913003Z  ...   HEF_L003 2019-10-03 10:55:24.913003+00:00\n",
       "651   1307154a-0396-4f2c-a1bf-4a2bf593b1a0  2019-10-03T105524.914465Z  ...   HEF_L004 2019-10-03 10:55:24.914465+00:00\n",
       "812   52245757-73ba-43a2-a78d-0eba01cb4ce1  2019-10-03T105524.918205Z  ...  IDC3_L001 2019-10-03 10:55:24.918205+00:00\n",
       "820   52245757-73ba-43a2-a78d-0eba01cb4ce1  2019-10-03T105524.918205Z  ...  IDC3_L002 2019-10-03 10:55:24.918205+00:00\n",
       "814   52245757-73ba-43a2-a78d-0eba01cb4ce1  2019-10-03T105524.918205Z  ...  IDC3_L003 2019-10-03 10:55:24.918205+00:00\n",
       "816   52245757-73ba-43a2-a78d-0eba01cb4ce1  2019-10-03T105524.918205Z  ...  IDC3_L004 2019-10-03 10:55:24.918205+00:00\n",
       "515   cb88115c-75ef-4e8e-bbd7-a48e18960344  2019-10-03T105524.915852Z  ...  IDC9_L001 2019-10-03 10:55:24.915852+00:00\n",
       "501   cb88115c-75ef-4e8e-bbd7-a48e18960344  2019-10-03T105524.915852Z  ...  IDC9_L002 2019-10-03 10:55:24.915852+00:00\n",
       "1075  cb88115c-75ef-4e8e-bbd7-a48e18960344  2019-10-03T105524.915852Z  ...  IDC9_L003 2019-10-03 10:55:24.915852+00:00\n",
       "1079  cb88115c-75ef-4e8e-bbd7-a48e18960344  2019-10-03T105524.915852Z  ...  IDC9_L004 2019-10-03 10:55:24.915852+00:00\n",
       "\n",
       "[12 rows x 6 columns]"
      ]
     },
     "execution_count": 24,
     "metadata": {},
     "output_type": "execute_result"
    }
   ],
   "source": [
    "manifest_chunk.sort_values(by='bundle_version').drop_duplicates(subset=[\"file_name\"]).sort_values(by=\"file_name\")"
   ]
  }
 ],
 "metadata": {
  "kernelspec": {
   "display_name": "Python 3",
   "language": "python",
   "name": "python3"
  },
  "language_info": {
   "codemirror_mode": {
    "name": "ipython",
    "version": 3
   },
   "file_extension": ".py",
   "mimetype": "text/x-python",
   "name": "python",
   "nbconvert_exporter": "python",
   "pygments_lexer": "ipython3",
   "version": "3.8.0"
  }
 },
 "nbformat": 4,
 "nbformat_minor": 4
}
